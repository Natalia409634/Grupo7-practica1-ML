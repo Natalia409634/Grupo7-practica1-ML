{
  "nbformat": 4,
  "nbformat_minor": 0,
  "metadata": {
    "colab": {
      "provenance": [],
      "include_colab_link": true
    },
    "kernelspec": {
      "name": "python3",
      "display_name": "Python 3"
    },
    "language_info": {
      "name": "python"
    }
  },
  "cells": [
    {
      "cell_type": "markdown",
      "metadata": {
        "id": "view-in-github",
        "colab_type": "text"
      },
      "source": [
        "<a href=\"https://colab.research.google.com/github/Natalia409634/Grupo7-practica1-ML/blob/main/Copy_of_parte1.ipynb\" target=\"_parent\"><img src=\"https://colab.research.google.com/assets/colab-badge.svg\" alt=\"Open In Colab\"/></a>"
      ]
    },
    {
      "cell_type": "markdown",
      "source": [
        "# **Predicción de la producción de energía solar**\n"
      ],
      "metadata": {
        "id": "rqGvFGns7K8o"
      }
    },
    {
      "cell_type": "code",
      "source": [
        "from google.colab import drive\n",
        "drive.mount('/content/drive')\n",
        "\n",
        "import pandas as pd   \n",
        "# Instalar statsmodels para intervalos de confianza \n",
        "!pip install statsmodels"
      ],
      "metadata": {
        "id": "pYJNZ0JeiRqs",
        "outputId": "601ceb9e-fee6-4f36-bdcd-4d7eac7b24bc",
        "colab": {
          "base_uri": "https://localhost:8080/"
        }
      },
      "execution_count": 1,
      "outputs": [
        {
          "output_type": "stream",
          "name": "stdout",
          "text": [
            "Mounted at /content/drive\n",
            "Looking in indexes: https://pypi.org/simple, https://us-python.pkg.dev/colab-wheels/public/simple/\n",
            "Requirement already satisfied: statsmodels in /usr/local/lib/python3.9/dist-packages (0.13.5)\n",
            "Requirement already satisfied: patsy>=0.5.2 in /usr/local/lib/python3.9/dist-packages (from statsmodels) (0.5.3)\n",
            "Requirement already satisfied: packaging>=21.3 in /usr/local/lib/python3.9/dist-packages (from statsmodels) (23.0)\n",
            "Requirement already satisfied: scipy>=1.3 in /usr/local/lib/python3.9/dist-packages (from statsmodels) (1.10.1)\n",
            "Requirement already satisfied: pandas>=0.25 in /usr/local/lib/python3.9/dist-packages (from statsmodels) (1.4.4)\n",
            "Requirement already satisfied: numpy>=1.17 in /usr/local/lib/python3.9/dist-packages (from statsmodels) (1.22.4)\n",
            "Requirement already satisfied: pytz>=2020.1 in /usr/local/lib/python3.9/dist-packages (from pandas>=0.25->statsmodels) (2022.7.1)\n",
            "Requirement already satisfied: python-dateutil>=2.8.1 in /usr/local/lib/python3.9/dist-packages (from pandas>=0.25->statsmodels) (2.8.2)\n",
            "Requirement already satisfied: six in /usr/local/lib/python3.9/dist-packages (from patsy>=0.5.2->statsmodels) (1.15.0)\n"
          ]
        }
      ]
    },
    {
      "cell_type": "code",
      "source": [
        "import numpy as np\n",
        "import matplotlib.pyplot as plt"
      ],
      "metadata": {
        "id": "Eah9a8DWjEDx"
      },
      "execution_count": 2,
      "outputs": []
    },
    {
      "cell_type": "markdown",
      "source": [
        "# Lectura de datos\n"
      ],
      "metadata": {
        "id": "ZnQk3XF-6ssB"
      }
    },
    {
      "cell_type": "code",
      "source": [
        "disp_df = pd.read_csv(\"/content/drive/MyDrive/Aprendizaje Automático/datos practica/disp_st7ns1.txt.bz2\",compression=\"bz2\",index_col=0)\n",
        "\n",
        "\n",
        "comp_df = pd.read_csv(\"/content/drive/MyDrive/Aprendizaje Automático/datos practica/comp_st7ns1.txt.bz2\", compression=\"bz2\", index_col=0)"
      ],
      "metadata": {
        "id": "G3KIn4ZE7HHL"
      },
      "execution_count": 29,
      "outputs": []
    },
    {
      "cell_type": "markdown",
      "source": [
        "# Análisis Exploratorio de datos -> 19 de marzo\n",
        "\n",
        "\n",
        "\n",
        "1.   Comprender la anturaleza de los datos\n",
        "2.   Identificar y tratar los datos faltantes\n",
        "3.   Analizar la distribución de las variables\n",
        "4.   Identificar valores atípicos\n",
        "5.   Analizar la relación entre las variables\n",
        "6.   Identificar patrones y tendencias\n",
        "7.   Visualizar los resultados\n",
        "\n",
        "\n",
        "\n"
      ],
      "metadata": {
        "id": "hhXP4SBz6yd8"
      }
    },
    {
      "cell_type": "code",
      "source": [
        "disp_df.head()"
      ],
      "metadata": {
        "id": "fMx0IwyCjyHc",
        "outputId": "7adffc43-c829-4c79-b258-e09bdfff5056",
        "colab": {
          "base_uri": "https://localhost:8080/",
          "height": 300
        }
      },
      "execution_count": 4,
      "outputs": [
        {
          "output_type": "execute_result",
          "data": {
            "text/plain": [
              "    apcp_sf1_1  apcp_sf2_1  apcp_sf3_1  apcp_sf4_1  apcp_sf5_1  dlwrf_s1_1  \\\n",
              "V1    0.000000         0.0         0.0    0.000000    0.000000  250.765400   \n",
              "V2    0.000000         0.0         0.0    0.009091    0.010909  267.362233   \n",
              "V3    0.000000         0.0         0.0    0.000000    0.000000  222.643638   \n",
              "V4    0.000909         0.0         0.0    0.000000    0.000000  269.499409   \n",
              "V5    0.000000         0.0         0.0    0.000000    0.000000  241.344566   \n",
              "\n",
              "    dlwrf_s2_1  dlwrf_s3_1  dlwrf_s4_1  dlwrf_s5_1  ...  ulwrf_t2_1  \\\n",
              "V1  244.423459  250.810849  269.559490  268.286532  ...  247.777202   \n",
              "V2  250.278670  274.982095  293.350833  281.656355  ...  238.549172   \n",
              "V3  217.905113  224.133093  251.074578  253.476495  ...  233.556009   \n",
              "V4  224.078362  225.675403  237.365465  238.349503  ...  244.280412   \n",
              "V5  244.017960  252.214458  295.031791  304.845553  ...  237.979387   \n",
              "\n",
              "    ulwrf_t3_1  ulwrf_t4_1  ulwrf_t5_1  uswrf_s1_1  uswrf_s2_1  uswrf_s3_1  \\\n",
              "V1  250.487543  264.160586  260.795116           0    8.000000   49.636364   \n",
              "V2  233.845458  251.197511  252.962007           0    7.090909   33.000000   \n",
              "V3  239.208023  257.450057  253.893104           0    8.000000   51.000000   \n",
              "V4  246.125845  256.927582  252.958314           0    8.000000   51.272727   \n",
              "V5  243.498259  243.310007  222.655228           0    7.909091   49.454545   \n",
              "\n",
              "    uswrf_s4_1  uswrf_s5_1    salida  \n",
              "V1  113.818182   79.181818  11487900  \n",
              "V2   93.454545   66.272727   9235200  \n",
              "V3  116.090909   80.727273  11895900  \n",
              "V4  119.000000   83.636364  12186600  \n",
              "V5  106.363636   68.545455   6411300  \n",
              "\n",
              "[5 rows x 76 columns]"
            ],
            "text/html": [
              "\n",
              "  <div id=\"df-d3d30000-1ed5-4b94-86fc-9c8060ad2bba\">\n",
              "    <div class=\"colab-df-container\">\n",
              "      <div>\n",
              "<style scoped>\n",
              "    .dataframe tbody tr th:only-of-type {\n",
              "        vertical-align: middle;\n",
              "    }\n",
              "\n",
              "    .dataframe tbody tr th {\n",
              "        vertical-align: top;\n",
              "    }\n",
              "\n",
              "    .dataframe thead th {\n",
              "        text-align: right;\n",
              "    }\n",
              "</style>\n",
              "<table border=\"1\" class=\"dataframe\">\n",
              "  <thead>\n",
              "    <tr style=\"text-align: right;\">\n",
              "      <th></th>\n",
              "      <th>apcp_sf1_1</th>\n",
              "      <th>apcp_sf2_1</th>\n",
              "      <th>apcp_sf3_1</th>\n",
              "      <th>apcp_sf4_1</th>\n",
              "      <th>apcp_sf5_1</th>\n",
              "      <th>dlwrf_s1_1</th>\n",
              "      <th>dlwrf_s2_1</th>\n",
              "      <th>dlwrf_s3_1</th>\n",
              "      <th>dlwrf_s4_1</th>\n",
              "      <th>dlwrf_s5_1</th>\n",
              "      <th>...</th>\n",
              "      <th>ulwrf_t2_1</th>\n",
              "      <th>ulwrf_t3_1</th>\n",
              "      <th>ulwrf_t4_1</th>\n",
              "      <th>ulwrf_t5_1</th>\n",
              "      <th>uswrf_s1_1</th>\n",
              "      <th>uswrf_s2_1</th>\n",
              "      <th>uswrf_s3_1</th>\n",
              "      <th>uswrf_s4_1</th>\n",
              "      <th>uswrf_s5_1</th>\n",
              "      <th>salida</th>\n",
              "    </tr>\n",
              "  </thead>\n",
              "  <tbody>\n",
              "    <tr>\n",
              "      <th>V1</th>\n",
              "      <td>0.000000</td>\n",
              "      <td>0.0</td>\n",
              "      <td>0.0</td>\n",
              "      <td>0.000000</td>\n",
              "      <td>0.000000</td>\n",
              "      <td>250.765400</td>\n",
              "      <td>244.423459</td>\n",
              "      <td>250.810849</td>\n",
              "      <td>269.559490</td>\n",
              "      <td>268.286532</td>\n",
              "      <td>...</td>\n",
              "      <td>247.777202</td>\n",
              "      <td>250.487543</td>\n",
              "      <td>264.160586</td>\n",
              "      <td>260.795116</td>\n",
              "      <td>0</td>\n",
              "      <td>8.000000</td>\n",
              "      <td>49.636364</td>\n",
              "      <td>113.818182</td>\n",
              "      <td>79.181818</td>\n",
              "      <td>11487900</td>\n",
              "    </tr>\n",
              "    <tr>\n",
              "      <th>V2</th>\n",
              "      <td>0.000000</td>\n",
              "      <td>0.0</td>\n",
              "      <td>0.0</td>\n",
              "      <td>0.009091</td>\n",
              "      <td>0.010909</td>\n",
              "      <td>267.362233</td>\n",
              "      <td>250.278670</td>\n",
              "      <td>274.982095</td>\n",
              "      <td>293.350833</td>\n",
              "      <td>281.656355</td>\n",
              "      <td>...</td>\n",
              "      <td>238.549172</td>\n",
              "      <td>233.845458</td>\n",
              "      <td>251.197511</td>\n",
              "      <td>252.962007</td>\n",
              "      <td>0</td>\n",
              "      <td>7.090909</td>\n",
              "      <td>33.000000</td>\n",
              "      <td>93.454545</td>\n",
              "      <td>66.272727</td>\n",
              "      <td>9235200</td>\n",
              "    </tr>\n",
              "    <tr>\n",
              "      <th>V3</th>\n",
              "      <td>0.000000</td>\n",
              "      <td>0.0</td>\n",
              "      <td>0.0</td>\n",
              "      <td>0.000000</td>\n",
              "      <td>0.000000</td>\n",
              "      <td>222.643638</td>\n",
              "      <td>217.905113</td>\n",
              "      <td>224.133093</td>\n",
              "      <td>251.074578</td>\n",
              "      <td>253.476495</td>\n",
              "      <td>...</td>\n",
              "      <td>233.556009</td>\n",
              "      <td>239.208023</td>\n",
              "      <td>257.450057</td>\n",
              "      <td>253.893104</td>\n",
              "      <td>0</td>\n",
              "      <td>8.000000</td>\n",
              "      <td>51.000000</td>\n",
              "      <td>116.090909</td>\n",
              "      <td>80.727273</td>\n",
              "      <td>11895900</td>\n",
              "    </tr>\n",
              "    <tr>\n",
              "      <th>V4</th>\n",
              "      <td>0.000909</td>\n",
              "      <td>0.0</td>\n",
              "      <td>0.0</td>\n",
              "      <td>0.000000</td>\n",
              "      <td>0.000000</td>\n",
              "      <td>269.499409</td>\n",
              "      <td>224.078362</td>\n",
              "      <td>225.675403</td>\n",
              "      <td>237.365465</td>\n",
              "      <td>238.349503</td>\n",
              "      <td>...</td>\n",
              "      <td>244.280412</td>\n",
              "      <td>246.125845</td>\n",
              "      <td>256.927582</td>\n",
              "      <td>252.958314</td>\n",
              "      <td>0</td>\n",
              "      <td>8.000000</td>\n",
              "      <td>51.272727</td>\n",
              "      <td>119.000000</td>\n",
              "      <td>83.636364</td>\n",
              "      <td>12186600</td>\n",
              "    </tr>\n",
              "    <tr>\n",
              "      <th>V5</th>\n",
              "      <td>0.000000</td>\n",
              "      <td>0.0</td>\n",
              "      <td>0.0</td>\n",
              "      <td>0.000000</td>\n",
              "      <td>0.000000</td>\n",
              "      <td>241.344566</td>\n",
              "      <td>244.017960</td>\n",
              "      <td>252.214458</td>\n",
              "      <td>295.031791</td>\n",
              "      <td>304.845553</td>\n",
              "      <td>...</td>\n",
              "      <td>237.979387</td>\n",
              "      <td>243.498259</td>\n",
              "      <td>243.310007</td>\n",
              "      <td>222.655228</td>\n",
              "      <td>0</td>\n",
              "      <td>7.909091</td>\n",
              "      <td>49.454545</td>\n",
              "      <td>106.363636</td>\n",
              "      <td>68.545455</td>\n",
              "      <td>6411300</td>\n",
              "    </tr>\n",
              "  </tbody>\n",
              "</table>\n",
              "<p>5 rows × 76 columns</p>\n",
              "</div>\n",
              "      <button class=\"colab-df-convert\" onclick=\"convertToInteractive('df-d3d30000-1ed5-4b94-86fc-9c8060ad2bba')\"\n",
              "              title=\"Convert this dataframe to an interactive table.\"\n",
              "              style=\"display:none;\">\n",
              "        \n",
              "  <svg xmlns=\"http://www.w3.org/2000/svg\" height=\"24px\"viewBox=\"0 0 24 24\"\n",
              "       width=\"24px\">\n",
              "    <path d=\"M0 0h24v24H0V0z\" fill=\"none\"/>\n",
              "    <path d=\"M18.56 5.44l.94 2.06.94-2.06 2.06-.94-2.06-.94-.94-2.06-.94 2.06-2.06.94zm-11 1L8.5 8.5l.94-2.06 2.06-.94-2.06-.94L8.5 2.5l-.94 2.06-2.06.94zm10 10l.94 2.06.94-2.06 2.06-.94-2.06-.94-.94-2.06-.94 2.06-2.06.94z\"/><path d=\"M17.41 7.96l-1.37-1.37c-.4-.4-.92-.59-1.43-.59-.52 0-1.04.2-1.43.59L10.3 9.45l-7.72 7.72c-.78.78-.78 2.05 0 2.83L4 21.41c.39.39.9.59 1.41.59.51 0 1.02-.2 1.41-.59l7.78-7.78 2.81-2.81c.8-.78.8-2.07 0-2.86zM5.41 20L4 18.59l7.72-7.72 1.47 1.35L5.41 20z\"/>\n",
              "  </svg>\n",
              "      </button>\n",
              "      \n",
              "  <style>\n",
              "    .colab-df-container {\n",
              "      display:flex;\n",
              "      flex-wrap:wrap;\n",
              "      gap: 12px;\n",
              "    }\n",
              "\n",
              "    .colab-df-convert {\n",
              "      background-color: #E8F0FE;\n",
              "      border: none;\n",
              "      border-radius: 50%;\n",
              "      cursor: pointer;\n",
              "      display: none;\n",
              "      fill: #1967D2;\n",
              "      height: 32px;\n",
              "      padding: 0 0 0 0;\n",
              "      width: 32px;\n",
              "    }\n",
              "\n",
              "    .colab-df-convert:hover {\n",
              "      background-color: #E2EBFA;\n",
              "      box-shadow: 0px 1px 2px rgba(60, 64, 67, 0.3), 0px 1px 3px 1px rgba(60, 64, 67, 0.15);\n",
              "      fill: #174EA6;\n",
              "    }\n",
              "\n",
              "    [theme=dark] .colab-df-convert {\n",
              "      background-color: #3B4455;\n",
              "      fill: #D2E3FC;\n",
              "    }\n",
              "\n",
              "    [theme=dark] .colab-df-convert:hover {\n",
              "      background-color: #434B5C;\n",
              "      box-shadow: 0px 1px 3px 1px rgba(0, 0, 0, 0.15);\n",
              "      filter: drop-shadow(0px 1px 2px rgba(0, 0, 0, 0.3));\n",
              "      fill: #FFFFFF;\n",
              "    }\n",
              "  </style>\n",
              "\n",
              "      <script>\n",
              "        const buttonEl =\n",
              "          document.querySelector('#df-d3d30000-1ed5-4b94-86fc-9c8060ad2bba button.colab-df-convert');\n",
              "        buttonEl.style.display =\n",
              "          google.colab.kernel.accessAllowed ? 'block' : 'none';\n",
              "\n",
              "        async function convertToInteractive(key) {\n",
              "          const element = document.querySelector('#df-d3d30000-1ed5-4b94-86fc-9c8060ad2bba');\n",
              "          const dataTable =\n",
              "            await google.colab.kernel.invokeFunction('convertToInteractive',\n",
              "                                                     [key], {});\n",
              "          if (!dataTable) return;\n",
              "\n",
              "          const docLinkHtml = 'Like what you see? Visit the ' +\n",
              "            '<a target=\"_blank\" href=https://colab.research.google.com/notebooks/data_table.ipynb>data table notebook</a>'\n",
              "            + ' to learn more about interactive tables.';\n",
              "          element.innerHTML = '';\n",
              "          dataTable['output_type'] = 'display_data';\n",
              "          await google.colab.output.renderOutput(dataTable, element);\n",
              "          const docLink = document.createElement('div');\n",
              "          docLink.innerHTML = docLinkHtml;\n",
              "          element.appendChild(docLink);\n",
              "        }\n",
              "      </script>\n",
              "    </div>\n",
              "  </div>\n",
              "  "
            ]
          },
          "metadata": {},
          "execution_count": 4
        }
      ]
    },
    {
      "cell_type": "code",
      "source": [
        "comp_df.head()"
      ],
      "metadata": {
        "id": "3z_ziaq3j2ZU",
        "outputId": "4c390ac2-942f-4fe3-a30b-4912fe5711e6",
        "colab": {
          "base_uri": "https://localhost:8080/",
          "height": 300
        }
      },
      "execution_count": 5,
      "outputs": [
        {
          "output_type": "execute_result",
          "data": {
            "text/plain": [
              "       apcp_sf1_1  apcp_sf2_1  apcp_sf3_1  apcp_sf4_1  apcp_sf5_1  dlwrf_s1_1  \\\n",
              "V4381         0.0         0.0         0.0         0.0         0.0  270.041357   \n",
              "V4382         0.0         0.0         0.0         0.0         0.0  268.203194   \n",
              "V4383         0.0         0.0         0.0         0.0         0.0  259.093084   \n",
              "V4384         0.0         0.0         0.0         0.0         0.0  285.385701   \n",
              "V4385         0.0         0.0         0.0         0.0         0.0  276.592293   \n",
              "\n",
              "       dlwrf_s2_1  dlwrf_s3_1  dlwrf_s4_1  dlwrf_s5_1  ...  ulwrf_t1_1  \\\n",
              "V4381  266.721902  271.436185  289.260481  290.198866  ...  249.005188   \n",
              "V4382  251.082065  252.520158  265.459176  266.033655  ...  248.806734   \n",
              "V4383  253.669977  262.735166  298.541923  293.522200  ...  221.154437   \n",
              "V4384  290.056355  289.864347  289.696259  287.767661  ...  230.637607   \n",
              "V4385  266.611287  268.892875  283.150868  282.253951  ...  256.840331   \n",
              "\n",
              "       ulwrf_t2_1  ulwrf_t3_1  ulwrf_t4_1  ulwrf_t5_1  uswrf_s1_1  uswrf_s2_1  \\\n",
              "V4381  246.327445  254.430893  271.488123  263.904726           0    8.000000   \n",
              "V4382  246.361692  252.809210  261.484716  252.373657           0    8.000000   \n",
              "V4383  238.409930  234.933735  210.958496  228.914555           0    7.818182   \n",
              "V4384  236.175475  244.932745  292.169112  287.461126           0    5.545455   \n",
              "V4385  242.059387  252.194519  276.955666  275.521393           0    7.727273   \n",
              "\n",
              "       uswrf_s3_1  uswrf_s4_1  uswrf_s5_1  \n",
              "V4381   49.000000  111.818182   76.272727  \n",
              "V4382   51.000000  115.545455   78.909091  \n",
              "V4383   45.272727   94.090909   66.727273  \n",
              "V4384   46.545455  116.727273   81.727273  \n",
              "V4385   49.636364  115.272727   80.454545  \n",
              "\n",
              "[5 rows x 75 columns]"
            ],
            "text/html": [
              "\n",
              "  <div id=\"df-946d825f-9760-48b5-819d-93f693ac1ed6\">\n",
              "    <div class=\"colab-df-container\">\n",
              "      <div>\n",
              "<style scoped>\n",
              "    .dataframe tbody tr th:only-of-type {\n",
              "        vertical-align: middle;\n",
              "    }\n",
              "\n",
              "    .dataframe tbody tr th {\n",
              "        vertical-align: top;\n",
              "    }\n",
              "\n",
              "    .dataframe thead th {\n",
              "        text-align: right;\n",
              "    }\n",
              "</style>\n",
              "<table border=\"1\" class=\"dataframe\">\n",
              "  <thead>\n",
              "    <tr style=\"text-align: right;\">\n",
              "      <th></th>\n",
              "      <th>apcp_sf1_1</th>\n",
              "      <th>apcp_sf2_1</th>\n",
              "      <th>apcp_sf3_1</th>\n",
              "      <th>apcp_sf4_1</th>\n",
              "      <th>apcp_sf5_1</th>\n",
              "      <th>dlwrf_s1_1</th>\n",
              "      <th>dlwrf_s2_1</th>\n",
              "      <th>dlwrf_s3_1</th>\n",
              "      <th>dlwrf_s4_1</th>\n",
              "      <th>dlwrf_s5_1</th>\n",
              "      <th>...</th>\n",
              "      <th>ulwrf_t1_1</th>\n",
              "      <th>ulwrf_t2_1</th>\n",
              "      <th>ulwrf_t3_1</th>\n",
              "      <th>ulwrf_t4_1</th>\n",
              "      <th>ulwrf_t5_1</th>\n",
              "      <th>uswrf_s1_1</th>\n",
              "      <th>uswrf_s2_1</th>\n",
              "      <th>uswrf_s3_1</th>\n",
              "      <th>uswrf_s4_1</th>\n",
              "      <th>uswrf_s5_1</th>\n",
              "    </tr>\n",
              "  </thead>\n",
              "  <tbody>\n",
              "    <tr>\n",
              "      <th>V4381</th>\n",
              "      <td>0.0</td>\n",
              "      <td>0.0</td>\n",
              "      <td>0.0</td>\n",
              "      <td>0.0</td>\n",
              "      <td>0.0</td>\n",
              "      <td>270.041357</td>\n",
              "      <td>266.721902</td>\n",
              "      <td>271.436185</td>\n",
              "      <td>289.260481</td>\n",
              "      <td>290.198866</td>\n",
              "      <td>...</td>\n",
              "      <td>249.005188</td>\n",
              "      <td>246.327445</td>\n",
              "      <td>254.430893</td>\n",
              "      <td>271.488123</td>\n",
              "      <td>263.904726</td>\n",
              "      <td>0</td>\n",
              "      <td>8.000000</td>\n",
              "      <td>49.000000</td>\n",
              "      <td>111.818182</td>\n",
              "      <td>76.272727</td>\n",
              "    </tr>\n",
              "    <tr>\n",
              "      <th>V4382</th>\n",
              "      <td>0.0</td>\n",
              "      <td>0.0</td>\n",
              "      <td>0.0</td>\n",
              "      <td>0.0</td>\n",
              "      <td>0.0</td>\n",
              "      <td>268.203194</td>\n",
              "      <td>251.082065</td>\n",
              "      <td>252.520158</td>\n",
              "      <td>265.459176</td>\n",
              "      <td>266.033655</td>\n",
              "      <td>...</td>\n",
              "      <td>248.806734</td>\n",
              "      <td>246.361692</td>\n",
              "      <td>252.809210</td>\n",
              "      <td>261.484716</td>\n",
              "      <td>252.373657</td>\n",
              "      <td>0</td>\n",
              "      <td>8.000000</td>\n",
              "      <td>51.000000</td>\n",
              "      <td>115.545455</td>\n",
              "      <td>78.909091</td>\n",
              "    </tr>\n",
              "    <tr>\n",
              "      <th>V4383</th>\n",
              "      <td>0.0</td>\n",
              "      <td>0.0</td>\n",
              "      <td>0.0</td>\n",
              "      <td>0.0</td>\n",
              "      <td>0.0</td>\n",
              "      <td>259.093084</td>\n",
              "      <td>253.669977</td>\n",
              "      <td>262.735166</td>\n",
              "      <td>298.541923</td>\n",
              "      <td>293.522200</td>\n",
              "      <td>...</td>\n",
              "      <td>221.154437</td>\n",
              "      <td>238.409930</td>\n",
              "      <td>234.933735</td>\n",
              "      <td>210.958496</td>\n",
              "      <td>228.914555</td>\n",
              "      <td>0</td>\n",
              "      <td>7.818182</td>\n",
              "      <td>45.272727</td>\n",
              "      <td>94.090909</td>\n",
              "      <td>66.727273</td>\n",
              "    </tr>\n",
              "    <tr>\n",
              "      <th>V4384</th>\n",
              "      <td>0.0</td>\n",
              "      <td>0.0</td>\n",
              "      <td>0.0</td>\n",
              "      <td>0.0</td>\n",
              "      <td>0.0</td>\n",
              "      <td>285.385701</td>\n",
              "      <td>290.056355</td>\n",
              "      <td>289.864347</td>\n",
              "      <td>289.696259</td>\n",
              "      <td>287.767661</td>\n",
              "      <td>...</td>\n",
              "      <td>230.637607</td>\n",
              "      <td>236.175475</td>\n",
              "      <td>244.932745</td>\n",
              "      <td>292.169112</td>\n",
              "      <td>287.461126</td>\n",
              "      <td>0</td>\n",
              "      <td>5.545455</td>\n",
              "      <td>46.545455</td>\n",
              "      <td>116.727273</td>\n",
              "      <td>81.727273</td>\n",
              "    </tr>\n",
              "    <tr>\n",
              "      <th>V4385</th>\n",
              "      <td>0.0</td>\n",
              "      <td>0.0</td>\n",
              "      <td>0.0</td>\n",
              "      <td>0.0</td>\n",
              "      <td>0.0</td>\n",
              "      <td>276.592293</td>\n",
              "      <td>266.611287</td>\n",
              "      <td>268.892875</td>\n",
              "      <td>283.150868</td>\n",
              "      <td>282.253951</td>\n",
              "      <td>...</td>\n",
              "      <td>256.840331</td>\n",
              "      <td>242.059387</td>\n",
              "      <td>252.194519</td>\n",
              "      <td>276.955666</td>\n",
              "      <td>275.521393</td>\n",
              "      <td>0</td>\n",
              "      <td>7.727273</td>\n",
              "      <td>49.636364</td>\n",
              "      <td>115.272727</td>\n",
              "      <td>80.454545</td>\n",
              "    </tr>\n",
              "  </tbody>\n",
              "</table>\n",
              "<p>5 rows × 75 columns</p>\n",
              "</div>\n",
              "      <button class=\"colab-df-convert\" onclick=\"convertToInteractive('df-946d825f-9760-48b5-819d-93f693ac1ed6')\"\n",
              "              title=\"Convert this dataframe to an interactive table.\"\n",
              "              style=\"display:none;\">\n",
              "        \n",
              "  <svg xmlns=\"http://www.w3.org/2000/svg\" height=\"24px\"viewBox=\"0 0 24 24\"\n",
              "       width=\"24px\">\n",
              "    <path d=\"M0 0h24v24H0V0z\" fill=\"none\"/>\n",
              "    <path d=\"M18.56 5.44l.94 2.06.94-2.06 2.06-.94-2.06-.94-.94-2.06-.94 2.06-2.06.94zm-11 1L8.5 8.5l.94-2.06 2.06-.94-2.06-.94L8.5 2.5l-.94 2.06-2.06.94zm10 10l.94 2.06.94-2.06 2.06-.94-2.06-.94-.94-2.06-.94 2.06-2.06.94z\"/><path d=\"M17.41 7.96l-1.37-1.37c-.4-.4-.92-.59-1.43-.59-.52 0-1.04.2-1.43.59L10.3 9.45l-7.72 7.72c-.78.78-.78 2.05 0 2.83L4 21.41c.39.39.9.59 1.41.59.51 0 1.02-.2 1.41-.59l7.78-7.78 2.81-2.81c.8-.78.8-2.07 0-2.86zM5.41 20L4 18.59l7.72-7.72 1.47 1.35L5.41 20z\"/>\n",
              "  </svg>\n",
              "      </button>\n",
              "      \n",
              "  <style>\n",
              "    .colab-df-container {\n",
              "      display:flex;\n",
              "      flex-wrap:wrap;\n",
              "      gap: 12px;\n",
              "    }\n",
              "\n",
              "    .colab-df-convert {\n",
              "      background-color: #E8F0FE;\n",
              "      border: none;\n",
              "      border-radius: 50%;\n",
              "      cursor: pointer;\n",
              "      display: none;\n",
              "      fill: #1967D2;\n",
              "      height: 32px;\n",
              "      padding: 0 0 0 0;\n",
              "      width: 32px;\n",
              "    }\n",
              "\n",
              "    .colab-df-convert:hover {\n",
              "      background-color: #E2EBFA;\n",
              "      box-shadow: 0px 1px 2px rgba(60, 64, 67, 0.3), 0px 1px 3px 1px rgba(60, 64, 67, 0.15);\n",
              "      fill: #174EA6;\n",
              "    }\n",
              "\n",
              "    [theme=dark] .colab-df-convert {\n",
              "      background-color: #3B4455;\n",
              "      fill: #D2E3FC;\n",
              "    }\n",
              "\n",
              "    [theme=dark] .colab-df-convert:hover {\n",
              "      background-color: #434B5C;\n",
              "      box-shadow: 0px 1px 3px 1px rgba(0, 0, 0, 0.15);\n",
              "      filter: drop-shadow(0px 1px 2px rgba(0, 0, 0, 0.3));\n",
              "      fill: #FFFFFF;\n",
              "    }\n",
              "  </style>\n",
              "\n",
              "      <script>\n",
              "        const buttonEl =\n",
              "          document.querySelector('#df-946d825f-9760-48b5-819d-93f693ac1ed6 button.colab-df-convert');\n",
              "        buttonEl.style.display =\n",
              "          google.colab.kernel.accessAllowed ? 'block' : 'none';\n",
              "\n",
              "        async function convertToInteractive(key) {\n",
              "          const element = document.querySelector('#df-946d825f-9760-48b5-819d-93f693ac1ed6');\n",
              "          const dataTable =\n",
              "            await google.colab.kernel.invokeFunction('convertToInteractive',\n",
              "                                                     [key], {});\n",
              "          if (!dataTable) return;\n",
              "\n",
              "          const docLinkHtml = 'Like what you see? Visit the ' +\n",
              "            '<a target=\"_blank\" href=https://colab.research.google.com/notebooks/data_table.ipynb>data table notebook</a>'\n",
              "            + ' to learn more about interactive tables.';\n",
              "          element.innerHTML = '';\n",
              "          dataTable['output_type'] = 'display_data';\n",
              "          await google.colab.output.renderOutput(dataTable, element);\n",
              "          const docLink = document.createElement('div');\n",
              "          docLink.innerHTML = docLinkHtml;\n",
              "          element.appendChild(docLink);\n",
              "        }\n",
              "      </script>\n",
              "    </div>\n",
              "  </div>\n",
              "  "
            ]
          },
          "metadata": {},
          "execution_count": 5
        }
      ]
    },
    {
      "cell_type": "code",
      "source": [
        "disp_df.info()"
      ],
      "metadata": {
        "id": "cjD_36XOZbIh",
        "outputId": "d0d375a9-0030-4d1d-cd80-28d38bd1e0f8",
        "colab": {
          "base_uri": "https://localhost:8080/"
        }
      },
      "execution_count": 6,
      "outputs": [
        {
          "output_type": "stream",
          "name": "stdout",
          "text": [
            "<class 'pandas.core.frame.DataFrame'>\n",
            "Index: 4380 entries, V1 to V4380\n",
            "Data columns (total 76 columns):\n",
            " #   Column      Non-Null Count  Dtype  \n",
            "---  ------      --------------  -----  \n",
            " 0   apcp_sf1_1  4380 non-null   float64\n",
            " 1   apcp_sf2_1  4380 non-null   float64\n",
            " 2   apcp_sf3_1  4380 non-null   float64\n",
            " 3   apcp_sf4_1  4380 non-null   float64\n",
            " 4   apcp_sf5_1  4380 non-null   float64\n",
            " 5   dlwrf_s1_1  4380 non-null   float64\n",
            " 6   dlwrf_s2_1  4380 non-null   float64\n",
            " 7   dlwrf_s3_1  4380 non-null   float64\n",
            " 8   dlwrf_s4_1  4380 non-null   float64\n",
            " 9   dlwrf_s5_1  4380 non-null   float64\n",
            " 10  dswrf_s1_1  4380 non-null   float64\n",
            " 11  dswrf_s2_1  4380 non-null   float64\n",
            " 12  dswrf_s3_1  4380 non-null   float64\n",
            " 13  dswrf_s4_1  4380 non-null   float64\n",
            " 14  dswrf_s5_1  4380 non-null   float64\n",
            " 15  pres_ms1_1  4380 non-null   float64\n",
            " 16  pres_ms2_1  4380 non-null   float64\n",
            " 17  pres_ms3_1  4380 non-null   float64\n",
            " 18  pres_ms4_1  4380 non-null   float64\n",
            " 19  pres_ms5_1  4380 non-null   float64\n",
            " 20  pwat_ea1_1  4380 non-null   float64\n",
            " 21  pwat_ea2_1  4380 non-null   float64\n",
            " 22  pwat_ea3_1  4380 non-null   float64\n",
            " 23  pwat_ea4_1  4380 non-null   float64\n",
            " 24  pwat_ea5_1  4380 non-null   float64\n",
            " 25  spfh_2m1_1  4380 non-null   float64\n",
            " 26  spfh_2m2_1  4380 non-null   float64\n",
            " 27  spfh_2m3_1  4380 non-null   float64\n",
            " 28  spfh_2m4_1  4380 non-null   float64\n",
            " 29  spfh_2m5_1  4380 non-null   float64\n",
            " 30  tcdc_ea1_1  4380 non-null   float64\n",
            " 31  tcdc_ea2_1  4380 non-null   float64\n",
            " 32  tcdc_ea3_1  4380 non-null   float64\n",
            " 33  tcdc_ea4_1  4380 non-null   float64\n",
            " 34  tcdc_ea5_1  4380 non-null   float64\n",
            " 35  tcolc_e1_1  4380 non-null   float64\n",
            " 36  tcolc_e2_1  4380 non-null   float64\n",
            " 37  tcolc_e3_1  4380 non-null   float64\n",
            " 38  tcolc_e4_1  4380 non-null   float64\n",
            " 39  tcolc_e5_1  4380 non-null   float64\n",
            " 40  tmax_2m1_1  4380 non-null   float64\n",
            " 41  tmax_2m2_1  4380 non-null   float64\n",
            " 42  tmax_2m3_1  4380 non-null   float64\n",
            " 43  tmax_2m4_1  4380 non-null   float64\n",
            " 44  tmax_2m5_1  4380 non-null   float64\n",
            " 45  tmin_2m1_1  4380 non-null   float64\n",
            " 46  tmin_2m2_1  4380 non-null   float64\n",
            " 47  tmin_2m3_1  4380 non-null   float64\n",
            " 48  tmin_2m4_1  4380 non-null   float64\n",
            " 49  tmin_2m5_1  4380 non-null   float64\n",
            " 50  tmp_2m_1_1  4380 non-null   float64\n",
            " 51  tmp_2m_2_1  4380 non-null   float64\n",
            " 52  tmp_2m_3_1  4380 non-null   float64\n",
            " 53  tmp_2m_4_1  4380 non-null   float64\n",
            " 54  tmp_2m_5_1  4380 non-null   float64\n",
            " 55  tmp_sfc1_1  4380 non-null   float64\n",
            " 56  tmp_sfc2_1  4380 non-null   float64\n",
            " 57  tmp_sfc3_1  4380 non-null   float64\n",
            " 58  tmp_sfc4_1  4380 non-null   float64\n",
            " 59  tmp_sfc5_1  4380 non-null   float64\n",
            " 60  ulwrf_s1_1  4380 non-null   float64\n",
            " 61  ulwrf_s2_1  4380 non-null   float64\n",
            " 62  ulwrf_s3_1  4380 non-null   float64\n",
            " 63  ulwrf_s4_1  4380 non-null   float64\n",
            " 64  ulwrf_s5_1  4380 non-null   float64\n",
            " 65  ulwrf_t1_1  4380 non-null   float64\n",
            " 66  ulwrf_t2_1  4380 non-null   float64\n",
            " 67  ulwrf_t3_1  4380 non-null   float64\n",
            " 68  ulwrf_t4_1  4380 non-null   float64\n",
            " 69  ulwrf_t5_1  4380 non-null   float64\n",
            " 70  uswrf_s1_1  4380 non-null   int64  \n",
            " 71  uswrf_s2_1  4380 non-null   float64\n",
            " 72  uswrf_s3_1  4380 non-null   float64\n",
            " 73  uswrf_s4_1  4380 non-null   float64\n",
            " 74  uswrf_s5_1  4380 non-null   float64\n",
            " 75  salida      4380 non-null   int64  \n",
            "dtypes: float64(74), int64(2)\n",
            "memory usage: 2.6+ MB\n"
          ]
        }
      ]
    },
    {
      "cell_type": "code",
      "source": [
        "comp_df.info()"
      ],
      "metadata": {
        "id": "kjL-pqDHZSgD",
        "outputId": "66597b59-a482-4846-f666-92817aa46c3c",
        "colab": {
          "base_uri": "https://localhost:8080/"
        }
      },
      "execution_count": 7,
      "outputs": [
        {
          "output_type": "stream",
          "name": "stdout",
          "text": [
            "<class 'pandas.core.frame.DataFrame'>\n",
            "Index: 733 entries, V4381 to V5113\n",
            "Data columns (total 75 columns):\n",
            " #   Column      Non-Null Count  Dtype  \n",
            "---  ------      --------------  -----  \n",
            " 0   apcp_sf1_1  733 non-null    float64\n",
            " 1   apcp_sf2_1  733 non-null    float64\n",
            " 2   apcp_sf3_1  733 non-null    float64\n",
            " 3   apcp_sf4_1  733 non-null    float64\n",
            " 4   apcp_sf5_1  733 non-null    float64\n",
            " 5   dlwrf_s1_1  733 non-null    float64\n",
            " 6   dlwrf_s2_1  733 non-null    float64\n",
            " 7   dlwrf_s3_1  733 non-null    float64\n",
            " 8   dlwrf_s4_1  733 non-null    float64\n",
            " 9   dlwrf_s5_1  733 non-null    float64\n",
            " 10  dswrf_s1_1  733 non-null    float64\n",
            " 11  dswrf_s2_1  733 non-null    float64\n",
            " 12  dswrf_s3_1  733 non-null    float64\n",
            " 13  dswrf_s4_1  733 non-null    float64\n",
            " 14  dswrf_s5_1  733 non-null    float64\n",
            " 15  pres_ms1_1  733 non-null    float64\n",
            " 16  pres_ms2_1  733 non-null    float64\n",
            " 17  pres_ms3_1  733 non-null    float64\n",
            " 18  pres_ms4_1  733 non-null    float64\n",
            " 19  pres_ms5_1  733 non-null    float64\n",
            " 20  pwat_ea1_1  733 non-null    float64\n",
            " 21  pwat_ea2_1  733 non-null    float64\n",
            " 22  pwat_ea3_1  733 non-null    float64\n",
            " 23  pwat_ea4_1  733 non-null    float64\n",
            " 24  pwat_ea5_1  733 non-null    float64\n",
            " 25  spfh_2m1_1  733 non-null    float64\n",
            " 26  spfh_2m2_1  733 non-null    float64\n",
            " 27  spfh_2m3_1  733 non-null    float64\n",
            " 28  spfh_2m4_1  733 non-null    float64\n",
            " 29  spfh_2m5_1  733 non-null    float64\n",
            " 30  tcdc_ea1_1  733 non-null    float64\n",
            " 31  tcdc_ea2_1  733 non-null    float64\n",
            " 32  tcdc_ea3_1  733 non-null    float64\n",
            " 33  tcdc_ea4_1  733 non-null    float64\n",
            " 34  tcdc_ea5_1  733 non-null    float64\n",
            " 35  tcolc_e1_1  733 non-null    float64\n",
            " 36  tcolc_e2_1  733 non-null    float64\n",
            " 37  tcolc_e3_1  733 non-null    float64\n",
            " 38  tcolc_e4_1  733 non-null    float64\n",
            " 39  tcolc_e5_1  733 non-null    float64\n",
            " 40  tmax_2m1_1  733 non-null    float64\n",
            " 41  tmax_2m2_1  733 non-null    float64\n",
            " 42  tmax_2m3_1  733 non-null    float64\n",
            " 43  tmax_2m4_1  733 non-null    float64\n",
            " 44  tmax_2m5_1  733 non-null    float64\n",
            " 45  tmin_2m1_1  733 non-null    float64\n",
            " 46  tmin_2m2_1  733 non-null    float64\n",
            " 47  tmin_2m3_1  733 non-null    float64\n",
            " 48  tmin_2m4_1  733 non-null    float64\n",
            " 49  tmin_2m5_1  733 non-null    float64\n",
            " 50  tmp_2m_1_1  733 non-null    float64\n",
            " 51  tmp_2m_2_1  733 non-null    float64\n",
            " 52  tmp_2m_3_1  733 non-null    float64\n",
            " 53  tmp_2m_4_1  733 non-null    float64\n",
            " 54  tmp_2m_5_1  733 non-null    float64\n",
            " 55  tmp_sfc1_1  733 non-null    float64\n",
            " 56  tmp_sfc2_1  733 non-null    float64\n",
            " 57  tmp_sfc3_1  733 non-null    float64\n",
            " 58  tmp_sfc4_1  733 non-null    float64\n",
            " 59  tmp_sfc5_1  733 non-null    float64\n",
            " 60  ulwrf_s1_1  733 non-null    float64\n",
            " 61  ulwrf_s2_1  733 non-null    float64\n",
            " 62  ulwrf_s3_1  733 non-null    float64\n",
            " 63  ulwrf_s4_1  733 non-null    float64\n",
            " 64  ulwrf_s5_1  733 non-null    float64\n",
            " 65  ulwrf_t1_1  733 non-null    float64\n",
            " 66  ulwrf_t2_1  733 non-null    float64\n",
            " 67  ulwrf_t3_1  733 non-null    float64\n",
            " 68  ulwrf_t4_1  733 non-null    float64\n",
            " 69  ulwrf_t5_1  733 non-null    float64\n",
            " 70  uswrf_s1_1  733 non-null    int64  \n",
            " 71  uswrf_s2_1  733 non-null    float64\n",
            " 72  uswrf_s3_1  733 non-null    float64\n",
            " 73  uswrf_s4_1  733 non-null    float64\n",
            " 74  uswrf_s5_1  733 non-null    float64\n",
            "dtypes: float64(74), int64(1)\n",
            "memory usage: 435.2+ KB\n"
          ]
        }
      ]
    },
    {
      "cell_type": "markdown",
      "source": [
        "## Dibujamos el conjunto de datos"
      ],
      "metadata": {
        "id": "X16Tfer9lAeM"
      }
    },
    {
      "cell_type": "markdown",
      "source": [
        "Integración de pandas con matplotlib"
      ],
      "metadata": {
        "id": "JRQ71Gl2DMUi"
      }
    },
    {
      "cell_type": "code",
      "source": [
        "import matplotlib.pyplot as plt\n",
        "import pandas as pd\n",
        "df_X = pd.DataFrame(disp_df)\n"
      ],
      "metadata": {
        "id": "mZM0cjfpj2N7"
      },
      "execution_count": 21,
      "outputs": []
    },
    {
      "cell_type": "markdown",
      "source": [
        "Histograma de algunas variables"
      ],
      "metadata": {
        "id": "4m9nGes4DU0M"
      }
    },
    {
      "cell_type": "code",
      "source": [
        "df_X.dlwrf_s1_1.plot.hist()\n",
        "plt.show()\n",
        "\n",
        "df_X.dlwrf_s2_1.plot.hist()\n",
        "plt.show()\n",
        "\n",
        "df_X.dlwrf_s3_1.plot.hist()\n",
        "plt.show()"
      ],
      "metadata": {
        "id": "MUABjy51DaS-",
        "outputId": "704d0548-2636-4c0f-b08c-c82a883fcd2a",
        "colab": {
          "base_uri": "https://localhost:8080/",
          "height": 761
        }
      },
      "execution_count": 19,
      "outputs": [
        {
          "output_type": "display_data",
          "data": {
            "text/plain": [
              "<Figure size 432x288 with 1 Axes>"
            ],
            "image/png": "[encoded data removed]"
          },
          "metadata": {
            "needs_background": "light"
          }
        },
        {
          "output_type": "display_data",
          "data": {
            "text/plain": [
              "<Figure size 432x288 with 1 Axes>"
            ],
            "image/png": "[encoded data removed]"
          },
          "metadata": {
            "needs_background": "light"
          }
        },
        {
          "output_type": "display_data",
          "data": {
            "text/plain": [
              "<Figure size 432x288 with 1 Axes>"
            ],
            "image/png": "[encoded data removed]"
          },
          "metadata": {
            "needs_background": "light"
          }
        }
      ]
    },
    {
      "cell_type": "markdown",
      "source": [
        "### ¿Cuál es la mejor variable de entrada que nos permite separar las distintas clases?"
      ],
      "metadata": {
        "id": "HUYuW99nE_-N"
      }
    },
    {
      "cell_type": "code",
      "source": [
        "import seaborn as sns\n",
        "import pandas as pd"
      ],
      "metadata": {
        "id": "nAJzW9SzFHxR"
      },
      "execution_count": 22,
      "outputs": []
    },
    {
      "cell_type": "markdown",
      "source": [
        "# 4. Dividir los datos en train (los 10 primeros años) y test (los dos últimos)"
      ],
      "metadata": {
        "id": "uRKlnlKm71a-"
      }
    },
    {
      "cell_type": "markdown",
      "source": [
        "Para comenzar, dividimos los datos en dos conjuntos"
      ],
      "metadata": {
        "id": "__X77t9FHudu"
      }
    },
    {
      "cell_type": "code",
      "source": [
        "import pandas as pd\n",
        "#Preguntar que variable es DATE-> No la encuentro\n",
        "#Crear 2 conjuntos\n",
        "\"\"\"train_Data-> \n",
        "test_data->\n",
        "\n",
        "\"\"\"\n",
        "\n"
      ],
      "metadata": {
        "id": "pxcElYzFH6f1"
      },
      "execution_count": 30,
      "outputs": []
    },
    {
      "cell_type": "code",
      "source": [
        "from sklearn import tree\n",
        "clf = tree.DecisionTreeClassifier()"
      ],
      "metadata": {
        "id": "DkCHK05gkMr7"
      },
      "execution_count": 32,
      "outputs": []
    },
    {
      "cell_type": "markdown",
      "source": [
        "Visualización gráfica del árbol"
      ],
      "metadata": {
        "id": "m995Kk8hGVlX"
      }
    },
    {
      "cell_type": "code",
      "source": [
        "import matplotlib.pyplot as plt\n",
        "fig = plt.figure(figsize=(25,20))\n",
        "_ = tree.plot_tree(clf, feature_names = disp_df,class_names=comp_df, filled=True)\n",
        "\n"
      ],
      "metadata": {
        "id": "ItoRbJzLGbKX",
        "outputId": "ced9f69f-0c0a-4a62-b9c3-ac9404cd8ca1",
        "colab": {
          "base_uri": "https://localhost:8080/",
          "height": 1000
        }
      },
      "execution_count": 27,
      "outputs": [
        {
          "output_type": "error",
          "ename": "AttributeError",
          "evalue": "ignored",
          "traceback": [
            "\u001b[0;31m---------------------------------------------------------------------------\u001b[0m",
            "\u001b[0;31mAttributeError\u001b[0m                            Traceback (most recent call last)",
            "\u001b[0;32m<ipython-input-27-a50f6a5663e7>\u001b[0m in \u001b[0;36m<module>\u001b[0;34m\u001b[0m\n\u001b[1;32m      1\u001b[0m \u001b[0;32mimport\u001b[0m \u001b[0mmatplotlib\u001b[0m\u001b[0;34m.\u001b[0m\u001b[0mpyplot\u001b[0m \u001b[0;32mas\u001b[0m \u001b[0mplt\u001b[0m\u001b[0;34m\u001b[0m\u001b[0;34m\u001b[0m\u001b[0m\n\u001b[1;32m      2\u001b[0m \u001b[0mfig\u001b[0m \u001b[0;34m=\u001b[0m \u001b[0mplt\u001b[0m\u001b[0;34m.\u001b[0m\u001b[0mfigure\u001b[0m\u001b[0;34m(\u001b[0m\u001b[0mfigsize\u001b[0m\u001b[0;34m=\u001b[0m\u001b[0;34m(\u001b[0m\u001b[0;36m25\u001b[0m\u001b[0;34m,\u001b[0m\u001b[0;36m20\u001b[0m\u001b[0;34m)\u001b[0m\u001b[0;34m)\u001b[0m\u001b[0;34m\u001b[0m\u001b[0;34m\u001b[0m\u001b[0m\n\u001b[0;32m----> 3\u001b[0;31m _ = tree.plot_tree(clf,\n\u001b[0m\u001b[1;32m      4\u001b[0m                    \u001b[0mfeature_names\u001b[0m \u001b[0;34m=\u001b[0m \u001b[0mdisp_df\u001b[0m\u001b[0;34m,\u001b[0m\u001b[0;34m\u001b[0m\u001b[0;34m\u001b[0m\u001b[0m\n\u001b[1;32m      5\u001b[0m                    \u001b[0mclass_names\u001b[0m\u001b[0;34m=\u001b[0m\u001b[0mcomp_df\u001b[0m\u001b[0;34m,\u001b[0m\u001b[0;34m\u001b[0m\u001b[0;34m\u001b[0m\u001b[0m\n",
            "\u001b[0;32m/usr/local/lib/python3.9/dist-packages/sklearn/tree/_export.py\u001b[0m in \u001b[0;36mplot_tree\u001b[0;34m(decision_tree, max_depth, feature_names, class_names, label, filled, impurity, node_ids, proportion, rounded, precision, ax, fontsize)\u001b[0m\n\u001b[1;32m    192\u001b[0m         \u001b[0mfontsize\u001b[0m\u001b[0;34m=\u001b[0m\u001b[0mfontsize\u001b[0m\u001b[0;34m,\u001b[0m\u001b[0;34m\u001b[0m\u001b[0;34m\u001b[0m\u001b[0m\n\u001b[1;32m    193\u001b[0m     )\n\u001b[0;32m--> 194\u001b[0;31m     \u001b[0;32mreturn\u001b[0m \u001b[0mexporter\u001b[0m\u001b[0;34m.\u001b[0m\u001b[0mexport\u001b[0m\u001b[0;34m(\u001b[0m\u001b[0mdecision_tree\u001b[0m\u001b[0;34m,\u001b[0m \u001b[0max\u001b[0m\u001b[0;34m=\u001b[0m\u001b[0max\u001b[0m\u001b[0;34m)\u001b[0m\u001b[0;34m\u001b[0m\u001b[0;34m\u001b[0m\u001b[0m\n\u001b[0m\u001b[1;32m    195\u001b[0m \u001b[0;34m\u001b[0m\u001b[0m\n\u001b[1;32m    196\u001b[0m \u001b[0;34m\u001b[0m\u001b[0m\n",
            "\u001b[0;32m/usr/local/lib/python3.9/dist-packages/sklearn/tree/_export.py\u001b[0m in \u001b[0;36mexport\u001b[0;34m(self, decision_tree, ax)\u001b[0m\n\u001b[1;32m    653\u001b[0m         \u001b[0max\u001b[0m\u001b[0;34m.\u001b[0m\u001b[0mclear\u001b[0m\u001b[0;34m(\u001b[0m\u001b[0;34m)\u001b[0m\u001b[0;34m\u001b[0m\u001b[0;34m\u001b[0m\u001b[0m\n\u001b[1;32m    654\u001b[0m         \u001b[0max\u001b[0m\u001b[0;34m.\u001b[0m\u001b[0mset_axis_off\u001b[0m\u001b[0;34m(\u001b[0m\u001b[0;34m)\u001b[0m\u001b[0;34m\u001b[0m\u001b[0;34m\u001b[0m\u001b[0m\n\u001b[0;32m--> 655\u001b[0;31m         \u001b[0mmy_tree\u001b[0m \u001b[0;34m=\u001b[0m \u001b[0mself\u001b[0m\u001b[0;34m.\u001b[0m\u001b[0m_make_tree\u001b[0m\u001b[0;34m(\u001b[0m\u001b[0;36m0\u001b[0m\u001b[0;34m,\u001b[0m \u001b[0mdecision_tree\u001b[0m\u001b[0;34m.\u001b[0m\u001b[0mtree_\u001b[0m\u001b[0;34m,\u001b[0m \u001b[0mdecision_tree\u001b[0m\u001b[0;34m.\u001b[0m\u001b[0mcriterion\u001b[0m\u001b[0;34m)\u001b[0m\u001b[0;34m\u001b[0m\u001b[0;34m\u001b[0m\u001b[0m\n\u001b[0m\u001b[1;32m    656\u001b[0m         \u001b[0mdraw_tree\u001b[0m \u001b[0;34m=\u001b[0m \u001b[0mbuchheim\u001b[0m\u001b[0;34m(\u001b[0m\u001b[0mmy_tree\u001b[0m\u001b[0;34m)\u001b[0m\u001b[0;34m\u001b[0m\u001b[0;34m\u001b[0m\u001b[0m\n\u001b[1;32m    657\u001b[0m \u001b[0;34m\u001b[0m\u001b[0m\n",
            "\u001b[0;31mAttributeError\u001b[0m: 'DecisionTreeClassifier' object has no attribute 'tree_'"
          ]
        },
        {
          "output_type": "display_data",
          "data": {
            "text/plain": [
              "<Figure size 1800x1440 with 1 Axes>"
            ],
            "image/png": "[encoded data removed]"
          },
          "metadata": {
            "needs_background": "light"
          }
        }
      ]
    },
    {
      "cell_type": "markdown",
      "source": [
        "# 5.Métodos básicos\n",
        "\n",
        "*   KNN\n",
        "*   Árboles de regresión\n",
        "*   Regresión lineal\n",
        "\n",
        "\n",
        "\n",
        "\n"
      ],
      "metadata": {
        "id": "8Jo013lQ8Ljp"
      }
    },
    {
      "cell_type": "markdown",
      "source": [
        "## K-NN"
      ],
      "metadata": {
        "id": "fwaWLRfVMTq4"
      }
    },
    {
      "cell_type": "code",
      "source": [
        "from sklearn.model_selection import train_test_split"
      ],
      "metadata": {
        "id": "by_BcApIMhYI"
      },
      "execution_count": 33,
      "outputs": []
    },
    {
      "cell_type": "markdown",
      "source": [
        "# 6.Dimensionalidad del problema"
      ],
      "metadata": {
        "id": "_1TD7ynD2hjY"
      }
    },
    {
      "cell_type": "markdown",
      "source": [
        "# 7. Métodos avanzados: SVMs, Random Forests"
      ],
      "metadata": {
        "id": "iZR1hyNQ2xDz"
      }
    },
    {
      "cell_type": "markdown",
      "source": [
        "# 8. Modelo final"
      ],
      "metadata": {
        "id": "08y-4At022BM"
      }
    }
  ]
}