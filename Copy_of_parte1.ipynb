{
  "nbformat": 4,
  "nbformat_minor": 0,
  "metadata": {
    "colab": {
      "provenance": [],
      "toc_visible": true,
      "authorship_tag": "ABX9TyNbuXtk5ned4FzMIyhD0mPh",
      "include_colab_link": true
    },
    "kernelspec": {
      "name": "python3",
      "display_name": "Python 3"
    },
    "language_info": {
      "name": "python"
    }
  },
  "cells": [
    {
      "cell_type": "markdown",
      "metadata": {
        "id": "view-in-github",
        "colab_type": "text"
      },
      "source": [
        "<a href=\"https://colab.research.google.com/github/Natalia409634/Grupo7-practica1-ML/blob/main/Copy_of_parte1.ipynb\" target=\"_parent\"><img src=\"https://colab.research.google.com/assets/colab-badge.svg\" alt=\"Open In Colab\"/></a>"
      ]
    },
    {
      "cell_type": "markdown",
      "source": [
        "### **Predicción de la producción de energía solar**\n"
      ],
      "metadata": {
        "id": "rqGvFGns7K8o"
      }
    },
    {
      "cell_type": "markdown",
      "source": [
        "# Lectura de datos\n"
      ],
      "metadata": {
        "id": "ZnQk3XF-6ssB"
      }
    },
    {
      "cell_type": "code",
      "source": [
        "disp_df = pd.read_csv(\"disp_stxxns1.txt.bz2\",\n",
        "compression=\"bz2\",\n",
        "index_col=0)\n",
        "comp_df = pd.read_csv(\"comp_stxxns1.txt.bz2\",\n",
        "compression=\"bz2\",\n",
        "index_col=0)"
      ],
      "metadata": {
        "id": "G3KIn4ZE7HHL"
      },
      "execution_count": null,
      "outputs": []
    },
    {
      "cell_type": "markdown",
      "source": [
        "# Análisis Exploratorio de datos"
      ],
      "metadata": {
        "id": "hhXP4SBz6yd8"
      }
    }
  ]
}